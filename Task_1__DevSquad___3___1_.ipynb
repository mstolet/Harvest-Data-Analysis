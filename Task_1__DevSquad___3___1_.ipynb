{
 "cells": [
  {
   "cell_type": "markdown",
   "id": "b31cbe40",
   "metadata": {},
   "source": [
    "# Test whether: People that register more hours monthly are the ones that also register time one or more entries with no description or notes."
   ]
  },
  {
   "cell_type": "raw",
   "id": "ec75970f",
   "metadata": {},
   "source": [
    "H0: people who have registred one or more \"Time entry without any notes\" in the brokenruledescription column register more hours than the mean. create user_type column: user0 = no entries with no notes, user1 = more than 1 entries without notes"
   ]
  },
  {
   "cell_type": "markdown",
   "id": "822c5400",
   "metadata": {},
   "source": [
    "## Read database and clean it up"
   ]
  },
  {
   "cell_type": "code",
   "execution_count": 172,
   "id": "368dacb6",
   "metadata": {},
   "outputs": [],
   "source": [
    "import pandas as pd\n",
    "import numpy as np\n",
    "import scipy.stats as stats\n",
    "import math"
   ]
  },
  {
   "cell_type": "code",
   "execution_count": 173,
   "id": "e9507ec9",
   "metadata": {},
   "outputs": [],
   "source": [
    "import pandas as pd\n",
    "import numpy as np"
   ]
  },
  {
   "cell_type": "code",
   "execution_count": 174,
   "id": "246dfff8",
   "metadata": {},
   "outputs": [],
   "source": [
    "#read database\n",
    "sheet_id = '1VK2ZQyVCNNjh4D-aQ4xyRjU8DrsLhQ9O02FnZ9S_nSU'\n",
    "df = pd.read_csv(f\"https://docs.google.com/spreadsheets/d/{sheet_id}/export?format=csv\")"
   ]
  },
  {
   "cell_type": "code",
   "execution_count": 175,
   "id": "66b3b5c7",
   "metadata": {},
   "outputs": [],
   "source": [
    "#create new df with important columns \n",
    "dftask1 = df[['brokenruledescription', 'user_id', 'hours', 'spent_date']].copy()"
   ]
  },
  {
   "cell_type": "code",
   "execution_count": 176,
   "id": "7af12b30",
   "metadata": {},
   "outputs": [],
   "source": [
    "#clean database\n",
    "#nan values\n",
    "dftask1 = dftask1.dropna(how=\"any\", axis=0) \n",
    "#values equal to 0\n",
    "dftask1 = dftask1[(dftask1 != 0).all(1)]"
   ]
  },
  {
   "cell_type": "code",
   "execution_count": 177,
   "id": "bf745245",
   "metadata": {},
   "outputs": [],
   "source": [
    "#separate spent_date column by- (create year and month column)\n",
    "dftask1[['year','month','day']] = dftask1['spent_date'].str.split('-', n=3, expand=True)\n",
    "\n",
    "#delete day, year, spentdate\n",
    "dftask1 = dftask1.drop(['spent_date','day'], axis = 1).sort_values(['month'])"
   ]
  },
  {
   "cell_type": "markdown",
   "id": "c353e7c7",
   "metadata": {},
   "source": [
    "## Classify users that entered one or more \"Entry without any notes\""
   ]
  },
  {
   "cell_type": "code",
   "execution_count": 178,
   "id": "975514de",
   "metadata": {},
   "outputs": [],
   "source": [
    "#filter the users with at least one brokenruledescription = time entry without any notes\n",
    "dftask1 = dftask1.groupby(['month','user_id','brokenruledescription']).agg({'hours':'mean'}).reset_index()\n"
   ]
  },
  {
   "cell_type": "code",
   "execution_count": 179,
   "id": "79db73a3",
   "metadata": {},
   "outputs": [],
   "source": [
    "#classify entry type.Type 1 is for those who entered one or more \"time entry without any notes\", else, type -1.\n",
    "dftask1['user_type'] = [1 if d == 'Time entry without any notes.' else -1 for d in dftask1['brokenruledescription']] "
   ]
  },
  {
   "cell_type": "code",
   "execution_count": 180,
   "id": "f88c4565",
   "metadata": {},
   "outputs": [
    {
     "name": "stderr",
     "output_type": "stream",
     "text": [
      "<ipython-input-180-1bca3724a77d>:9: SettingWithCopyWarning: \n",
      "A value is trying to be set on a copy of a slice from a DataFrame\n",
      "\n",
      "See the caveats in the documentation: https://pandas.pydata.org/pandas-docs/stable/user_guide/indexing.html#returning-a-view-versus-a-copy\n",
      "  dftask1[\"user_type\"][i] = tipoUserTemp\n"
     ]
    }
   ],
   "source": [
    "#classify users by entrys classification\n",
    "dftask1 = dftask1.sort_values([\"month\", \"user_id\",\"user_type\"], ascending=[True, False,False])\n",
    "\n",
    "user_temp = ''\n",
    "\n",
    "for i in dftask1.index: \n",
    "    if(dftask1[\"user_id\"][i] == user_temp):\n",
    "        tipoUser = dftask1[\"user_type\"][i]\n",
    "        dftask1[\"user_type\"][i] = tipoUserTemp\n",
    "\n",
    "    user_temp = dftask1[\"user_id\"][i]\n",
    "    tipoUserTemp = dftask1[\"user_type\"][i]\n",
    "    "
   ]
  },
  {
   "cell_type": "markdown",
   "id": "503ed387",
   "metadata": {},
   "source": [
    "## Create a DF for users type 1 (who have entries without any notes) hours"
   ]
  },
  {
   "cell_type": "code",
   "execution_count": 181,
   "id": "cbc5b4d7",
   "metadata": {},
   "outputs": [],
   "source": [
    "#create users1 df\n",
    "dfusers1 = dftask1[dftask1['user_type'] == 1]"
   ]
  },
  {
   "cell_type": "code",
   "execution_count": 183,
   "id": "5c4e36b8",
   "metadata": {},
   "outputs": [],
   "source": [
    "#Save dataframe to use in task number 3\n",
    "dfusers1.to_csv('users1_before_groupby', index=False)"
   ]
  },
  {
   "cell_type": "code",
   "execution_count": 184,
   "id": "98714e2f",
   "metadata": {},
   "outputs": [],
   "source": [
    "dfusers1 = dfusers1.groupby(['month','user_id']).agg({'hours':'sum'}).reset_index()"
   ]
  },
  {
   "cell_type": "markdown",
   "id": "d04a4ff9",
   "metadata": {},
   "source": [
    "## Create a DF for all the users (1 and -1) hours"
   ]
  },
  {
   "cell_type": "code",
   "execution_count": null,
   "id": "4d8f9bb7",
   "metadata": {},
   "outputs": [],
   "source": [
    "dftask1all = dftask1.groupby(['month','user_id']).agg({'hours':'sum'})"
   ]
  },
  {
   "cell_type": "markdown",
   "id": "56faca96",
   "metadata": {},
   "source": [
    "## Run t test"
   ]
  },
  {
   "cell_type": "code",
   "execution_count": null,
   "id": "61e708b0",
   "metadata": {},
   "outputs": [],
   "source": [
    "#Run the T-test for the mean of ONE group of scores. See at: https://docs.scipy.org/doc/scipy/reference/generated/scipy.stats.ttest_1samp.html\n",
    "stats.ttest_1samp(a = dfusers1['hours'], popmean = dftask1all['hours'].mean())"
   ]
  },
  {
   "cell_type": "markdown",
   "id": "2dfa346d",
   "metadata": {},
   "source": [
    "## Run correlation test"
   ]
  },
  {
   "cell_type": "code",
   "execution_count": null,
   "id": "507eb2c7",
   "metadata": {},
   "outputs": [],
   "source": [
    "dftask1 = dftask1.groupby(['month','user_id','user_type']).agg({'hours':'sum'}).reset_index()"
   ]
  },
  {
   "cell_type": "code",
   "execution_count": null,
   "id": "6b736700",
   "metadata": {},
   "outputs": [],
   "source": [
    "#simply get the correlation number\n",
    "dftask1['user_type'].corr(dftask1['hours'])"
   ]
  },
  {
   "cell_type": "code",
   "execution_count": null,
   "id": "d11544e7",
   "metadata": {},
   "outputs": [],
   "source": [
    "#gives a more visual result (more interesting to check corr between multiple variables)\n",
    "import seaborn as sns\n",
    "import matplotlib.pyplot as plt\n",
    "\n",
    "#heat map\n",
    "sns.heatmap(dftask1.corr(), annot=True, cmap=\"Wistia\")\n",
    "plt.show()\n",
    "\n",
    "#plot\n",
    "sns.pairplot(df1) \n",
    "plt.show()"
   ]
  }
 ],
 "metadata": {
  "kernelspec": {
   "display_name": "Python 3",
   "language": "python",
   "name": "python3"
  },
  "language_info": {
   "codemirror_mode": {
    "name": "ipython",
    "version": 3
   },
   "file_extension": ".py",
   "mimetype": "text/x-python",
   "name": "python",
   "nbconvert_exporter": "python",
   "pygments_lexer": "ipython3",
   "version": "3.8.8"
  }
 },
 "nbformat": 4,
 "nbformat_minor": 5
}
