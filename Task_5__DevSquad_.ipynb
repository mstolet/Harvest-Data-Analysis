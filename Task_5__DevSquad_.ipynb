{
 "cells": [
  {
   "cell_type": "markdown",
   "id": "07b11e4b",
   "metadata": {},
   "source": [
    "# Create and test three hypothesis:"
   ]
  },
  {
   "cell_type": "raw",
   "id": "d46132f7",
   "metadata": {},
   "source": [
    "1) People who spend more hours working are the same that enter programming tasks. \n",
    "2) People work more hours when the client's currency is GBP.\n",
    "3) People work less hours in december."
   ]
  },
  {
   "cell_type": "markdown",
   "id": "11fe0739",
   "metadata": {},
   "source": [
    "## Read database and clean it up"
   ]
  },
  {
   "cell_type": "code",
   "execution_count": 43,
   "id": "a7b30808",
   "metadata": {},
   "outputs": [],
   "source": [
    "import pandas as pd\n",
    "import numpy as np\n",
    "import scipy.stats as stats\n",
    "import math"
   ]
  },
  {
   "cell_type": "code",
   "execution_count": 44,
   "id": "f6997710",
   "metadata": {},
   "outputs": [],
   "source": [
    "#read database\n",
    "sheet_id = '1VK2ZQyVCNNjh4D-aQ4xyRjU8DrsLhQ9O02FnZ9S_nSU'\n",
    "df = pd.read_csv(f\"https://docs.google.com/spreadsheets/d/{sheet_id}/export?format=csv\")"
   ]
  },
  {
   "cell_type": "code",
   "execution_count": 45,
   "id": "1f296289",
   "metadata": {},
   "outputs": [],
   "source": [
    "#clean database\n",
    "#nan values\n",
    "df = df.dropna(how=\"any\", axis=0) \n",
    "#values equal to 0\n",
    "df = df[(df != 0).all(1)]"
   ]
  },
  {
   "cell_type": "code",
   "execution_count": 46,
   "id": "daccf9fb",
   "metadata": {
    "scrolled": true
   },
   "outputs": [
    {
     "data": {
      "text/html": [
       "<div>\n",
       "<style scoped>\n",
       "    .dataframe tbody tr th:only-of-type {\n",
       "        vertical-align: middle;\n",
       "    }\n",
       "\n",
       "    .dataframe tbody tr th {\n",
       "        vertical-align: top;\n",
       "    }\n",
       "\n",
       "    .dataframe thead th {\n",
       "        text-align: right;\n",
       "    }\n",
       "</style>\n",
       "<table border=\"1\" class=\"dataframe\">\n",
       "  <thead>\n",
       "    <tr style=\"text-align: right;\">\n",
       "      <th></th>\n",
       "      <th>user_id</th>\n",
       "      <th>task_name</th>\n",
       "      <th>rounded_hours</th>\n",
       "      <th>is_billed</th>\n",
       "      <th>brokenruledescription</th>\n",
       "      <th>project_name</th>\n",
       "      <th>client_id</th>\n",
       "      <th>warningid</th>\n",
       "      <th>spent_date</th>\n",
       "      <th>client_name</th>\n",
       "      <th>project_id</th>\n",
       "      <th>hours</th>\n",
       "      <th>client_currency</th>\n",
       "    </tr>\n",
       "  </thead>\n",
       "  <tbody>\n",
       "    <tr>\n",
       "      <th>0</th>\n",
       "      <td>3226380.0</td>\n",
       "      <td>Programming</td>\n",
       "      <td>3.22</td>\n",
       "      <td>True</td>\n",
       "      <td>Time entry bigger than 3 hours.</td>\n",
       "      <td>Squad Vulcan</td>\n",
       "      <td>9385332.0</td>\n",
       "      <td>9385332_26566194_3226380</td>\n",
       "      <td>2020-10-19</td>\n",
       "      <td>Emerald Publishing</td>\n",
       "      <td>26566194.0</td>\n",
       "      <td>3.22</td>\n",
       "      <td>USD</td>\n",
       "    </tr>\n",
       "    <tr>\n",
       "      <th>1</th>\n",
       "      <td>3226316.0</td>\n",
       "      <td>QA</td>\n",
       "      <td>3.25</td>\n",
       "      <td>True</td>\n",
       "      <td>Time entry bigger than 3 hours.</td>\n",
       "      <td>Nova: Epic 271 UX/UI Design Process</td>\n",
       "      <td>9357853.0</td>\n",
       "      <td>9357853_26012326_3226316</td>\n",
       "      <td>2021-02-16</td>\n",
       "      <td>Emerald Works Limited - Nova</td>\n",
       "      <td>26012326.0</td>\n",
       "      <td>3.25</td>\n",
       "      <td>USD</td>\n",
       "    </tr>\n",
       "    <tr>\n",
       "      <th>2</th>\n",
       "      <td>1852603.0</td>\n",
       "      <td>UX/UI: Research / Ideation</td>\n",
       "      <td>4.09</td>\n",
       "      <td>True</td>\n",
       "      <td>Time entry bigger than 3 hours.</td>\n",
       "      <td>Theme Development</td>\n",
       "      <td>10259141.0</td>\n",
       "      <td>10259141_27179798_1852603</td>\n",
       "      <td>2021-05-03</td>\n",
       "      <td>Anderson International Ltd</td>\n",
       "      <td>27179798.0</td>\n",
       "      <td>4.09</td>\n",
       "      <td>GBP</td>\n",
       "    </tr>\n",
       "    <tr>\n",
       "      <th>3</th>\n",
       "      <td>1852603.0</td>\n",
       "      <td>UX/UI: High-end Fidelity Design</td>\n",
       "      <td>3.62</td>\n",
       "      <td>True</td>\n",
       "      <td>Time entry bigger than 3 hours.</td>\n",
       "      <td>MVP</td>\n",
       "      <td>10220982.0</td>\n",
       "      <td>10220982_27067840_1852603</td>\n",
       "      <td>2021-03-10</td>\n",
       "      <td>Resilience Engine</td>\n",
       "      <td>27067840.0</td>\n",
       "      <td>3.62</td>\n",
       "      <td>GBP</td>\n",
       "    </tr>\n",
       "    <tr>\n",
       "      <th>4</th>\n",
       "      <td>1852573.0</td>\n",
       "      <td>DevOps</td>\n",
       "      <td>13.92</td>\n",
       "      <td>True</td>\n",
       "      <td>Time entry bigger than 3 hours.</td>\n",
       "      <td>MVP</td>\n",
       "      <td>10220982.0</td>\n",
       "      <td>10220982_27067840_1852573</td>\n",
       "      <td>2021-05-03</td>\n",
       "      <td>Resilience Engine</td>\n",
       "      <td>27067840.0</td>\n",
       "      <td>13.92</td>\n",
       "      <td>GBP</td>\n",
       "    </tr>\n",
       "    <tr>\n",
       "      <th>...</th>\n",
       "      <td>...</td>\n",
       "      <td>...</td>\n",
       "      <td>...</td>\n",
       "      <td>...</td>\n",
       "      <td>...</td>\n",
       "      <td>...</td>\n",
       "      <td>...</td>\n",
       "      <td>...</td>\n",
       "      <td>...</td>\n",
       "      <td>...</td>\n",
       "      <td>...</td>\n",
       "      <td>...</td>\n",
       "      <td>...</td>\n",
       "    </tr>\n",
       "    <tr>\n",
       "      <th>22169</th>\n",
       "      <td>3898458.0</td>\n",
       "      <td>Dev: Pair Programming</td>\n",
       "      <td>2.53</td>\n",
       "      <td>True</td>\n",
       "      <td>Time entry without any notes.</td>\n",
       "      <td>Phase 3</td>\n",
       "      <td>10220982.0</td>\n",
       "      <td>10220982_30828522_3898458</td>\n",
       "      <td>2022-01-21</td>\n",
       "      <td>Resilience Engine</td>\n",
       "      <td>30828522.0</td>\n",
       "      <td>2.53</td>\n",
       "      <td>GBP</td>\n",
       "    </tr>\n",
       "    <tr>\n",
       "      <th>22172</th>\n",
       "      <td>3997286.0</td>\n",
       "      <td>Dev: Testing</td>\n",
       "      <td>3.32</td>\n",
       "      <td>True</td>\n",
       "      <td>Time entry without any notes.</td>\n",
       "      <td>OMS</td>\n",
       "      <td>9586049.0</td>\n",
       "      <td>9586049_30495793_3997286</td>\n",
       "      <td>2022-01-04</td>\n",
       "      <td>Gamifica</td>\n",
       "      <td>30495793.0</td>\n",
       "      <td>3.32</td>\n",
       "      <td>BRL</td>\n",
       "    </tr>\n",
       "    <tr>\n",
       "      <th>22174</th>\n",
       "      <td>2761130.0</td>\n",
       "      <td>UX/UI: High-end Fidelity Design</td>\n",
       "      <td>5.13</td>\n",
       "      <td>True</td>\n",
       "      <td>Time entry bigger than 3 hours.</td>\n",
       "      <td>Phase 3</td>\n",
       "      <td>10220982.0</td>\n",
       "      <td>10220982_30828522_2761130</td>\n",
       "      <td>2021-12-21</td>\n",
       "      <td>Resilience Engine</td>\n",
       "      <td>30828522.0</td>\n",
       "      <td>5.13</td>\n",
       "      <td>GBP</td>\n",
       "    </tr>\n",
       "    <tr>\n",
       "      <th>22194</th>\n",
       "      <td>1852602.0</td>\n",
       "      <td>UX/UI: High-end Fidelity Design</td>\n",
       "      <td>3.25</td>\n",
       "      <td>True</td>\n",
       "      <td>Time entry bigger than 3 hours.</td>\n",
       "      <td>User Onboarding Flow</td>\n",
       "      <td>9357853.0</td>\n",
       "      <td>9357853_30403711_1852602</td>\n",
       "      <td>2021-10-13</td>\n",
       "      <td>Emerald Works Limited - Nova</td>\n",
       "      <td>30403711.0</td>\n",
       "      <td>3.25</td>\n",
       "      <td>USD</td>\n",
       "    </tr>\n",
       "    <tr>\n",
       "      <th>22201</th>\n",
       "      <td>3097480.0</td>\n",
       "      <td>QA</td>\n",
       "      <td>4.75</td>\n",
       "      <td>True</td>\n",
       "      <td>Time entry bigger than 3 hours.</td>\n",
       "      <td>Routine Regression Test</td>\n",
       "      <td>5997266.0</td>\n",
       "      <td>5997266_24614758_3097480</td>\n",
       "      <td>2020-05-05</td>\n",
       "      <td>Emerald Works Limited - Helix</td>\n",
       "      <td>24614758.0</td>\n",
       "      <td>4.75</td>\n",
       "      <td>USD</td>\n",
       "    </tr>\n",
       "  </tbody>\n",
       "</table>\n",
       "<p>11369 rows × 13 columns</p>\n",
       "</div>"
      ],
      "text/plain": [
       "         user_id                        task_name  rounded_hours is_billed  \\\n",
       "0      3226380.0                      Programming           3.22      True   \n",
       "1      3226316.0                               QA           3.25      True   \n",
       "2      1852603.0       UX/UI: Research / Ideation           4.09      True   \n",
       "3      1852603.0  UX/UI: High-end Fidelity Design           3.62      True   \n",
       "4      1852573.0                           DevOps          13.92      True   \n",
       "...          ...                              ...            ...       ...   \n",
       "22169  3898458.0            Dev: Pair Programming           2.53      True   \n",
       "22172  3997286.0                     Dev: Testing           3.32      True   \n",
       "22174  2761130.0  UX/UI: High-end Fidelity Design           5.13      True   \n",
       "22194  1852602.0  UX/UI: High-end Fidelity Design           3.25      True   \n",
       "22201  3097480.0                               QA           4.75      True   \n",
       "\n",
       "                 brokenruledescription                         project_name  \\\n",
       "0      Time entry bigger than 3 hours.                         Squad Vulcan   \n",
       "1      Time entry bigger than 3 hours.  Nova: Epic 271 UX/UI Design Process   \n",
       "2      Time entry bigger than 3 hours.                    Theme Development   \n",
       "3      Time entry bigger than 3 hours.                                  MVP   \n",
       "4      Time entry bigger than 3 hours.                                  MVP   \n",
       "...                                ...                                  ...   \n",
       "22169    Time entry without any notes.                              Phase 3   \n",
       "22172    Time entry without any notes.                                  OMS   \n",
       "22174  Time entry bigger than 3 hours.                              Phase 3   \n",
       "22194  Time entry bigger than 3 hours.                 User Onboarding Flow   \n",
       "22201  Time entry bigger than 3 hours.              Routine Regression Test   \n",
       "\n",
       "        client_id                  warningid  spent_date  \\\n",
       "0       9385332.0   9385332_26566194_3226380  2020-10-19   \n",
       "1       9357853.0   9357853_26012326_3226316  2021-02-16   \n",
       "2      10259141.0  10259141_27179798_1852603  2021-05-03   \n",
       "3      10220982.0  10220982_27067840_1852603  2021-03-10   \n",
       "4      10220982.0  10220982_27067840_1852573  2021-05-03   \n",
       "...           ...                        ...         ...   \n",
       "22169  10220982.0  10220982_30828522_3898458  2022-01-21   \n",
       "22172   9586049.0   9586049_30495793_3997286  2022-01-04   \n",
       "22174  10220982.0  10220982_30828522_2761130  2021-12-21   \n",
       "22194   9357853.0   9357853_30403711_1852602  2021-10-13   \n",
       "22201   5997266.0   5997266_24614758_3097480  2020-05-05   \n",
       "\n",
       "                         client_name  project_id  hours client_currency  \n",
       "0                 Emerald Publishing  26566194.0   3.22             USD  \n",
       "1       Emerald Works Limited - Nova  26012326.0   3.25             USD  \n",
       "2         Anderson International Ltd  27179798.0   4.09             GBP  \n",
       "3                  Resilience Engine  27067840.0   3.62             GBP  \n",
       "4                  Resilience Engine  27067840.0  13.92             GBP  \n",
       "...                              ...         ...    ...             ...  \n",
       "22169              Resilience Engine  30828522.0   2.53             GBP  \n",
       "22172                       Gamifica  30495793.0   3.32             BRL  \n",
       "22174              Resilience Engine  30828522.0   5.13             GBP  \n",
       "22194   Emerald Works Limited - Nova  30403711.0   3.25             USD  \n",
       "22201  Emerald Works Limited - Helix  24614758.0   4.75             USD  \n",
       "\n",
       "[11369 rows x 13 columns]"
      ]
     },
     "execution_count": 46,
     "metadata": {},
     "output_type": "execute_result"
    }
   ],
   "source": [
    "df"
   ]
  },
  {
   "cell_type": "markdown",
   "id": "231c69f7",
   "metadata": {},
   "source": [
    "# Hypothesys one: People who enter programming tasks enter more hours."
   ]
  },
  {
   "cell_type": "raw",
   "id": "a6610d07",
   "metadata": {},
   "source": [
    "Programming tasks:\n",
    "    -UX/UI: Prototyping\n",
    "        -Dev: Pair Programming\n",
    "        -Programming"
   ]
  },
  {
   "cell_type": "markdown",
   "id": "09c6df97",
   "metadata": {},
   "source": [
    "## Create dataframe"
   ]
  },
  {
   "cell_type": "code",
   "execution_count": 47,
   "id": "25cd514c",
   "metadata": {},
   "outputs": [],
   "source": [
    "#create new df with important columns \n",
    "dftask51 = df[['user_id', 'task_name', 'hours']].copy()"
   ]
  },
  {
   "cell_type": "code",
   "execution_count": 48,
   "id": "e82147cf",
   "metadata": {},
   "outputs": [],
   "source": [
    "dftask51 = dftask51.groupby(['user_id', 'task_name']).agg({'hours':'sum'}).reset_index()"
   ]
  },
  {
   "cell_type": "markdown",
   "id": "867ec81f",
   "metadata": {},
   "source": [
    "## Classify user by programmers and not programmers"
   ]
  },
  {
   "cell_type": "code",
   "execution_count": 49,
   "id": "56bd9b95",
   "metadata": {},
   "outputs": [],
   "source": [
    "#fill user type column with \"programmer\" if task name is Programming or Dev: Pair Programming\n",
    "dftask51.loc[(dftask51['task_name'] == 'Dev: Pair Programming') | (dftask51['task_name'] == 'Programming'), 'user_type'] = 'programmer'  \n",
    "dftask51.loc[(dftask51['task_name'] != 'Dev: Pair Programming') & (dftask51['task_name'] != 'Programming'), 'user_type'] = 'not programmer'  "
   ]
  },
  {
   "cell_type": "code",
   "execution_count": 50,
   "id": "2adf0184",
   "metadata": {},
   "outputs": [],
   "source": [
    "#sort users\n",
    "dftask51 = dftask51.sort_values([\"user_id\",\"user_type\"], ascending=[True, False])"
   ]
  },
  {
   "cell_type": "code",
   "execution_count": 51,
   "id": "e4b4b86b",
   "metadata": {},
   "outputs": [
    {
     "name": "stderr",
     "output_type": "stream",
     "text": [
      "<ipython-input-51-3d0565890449>:7: SettingWithCopyWarning: \n",
      "A value is trying to be set on a copy of a slice from a DataFrame\n",
      "\n",
      "See the caveats in the documentation: https://pandas.pydata.org/pandas-docs/stable/user_guide/indexing.html#returning-a-view-versus-a-copy\n",
      "  dftask51[\"user_type\"][i] = tipoUserTemp\n"
     ]
    }
   ],
   "source": [
    "# Classify users who have entered at least one programming task name as Programmer and those have not as not programmers\n",
    "user_temp = ''\n",
    "\n",
    "for i in dftask51.index: \n",
    "    if(dftask51[\"user_id\"][i] == user_temp):\n",
    "        tipoUser = dftask51[\"user_type\"][i]\n",
    "        dftask51[\"user_type\"][i] = tipoUserTemp\n",
    "\n",
    "    user_temp = dftask51[\"user_id\"][i]\n",
    "    tipoUserTemp = dftask51[\"user_type\"][i]"
   ]
  },
  {
   "cell_type": "code",
   "execution_count": 52,
   "id": "2d0c380b",
   "metadata": {},
   "outputs": [],
   "source": [
    "dftask51g = dftask51.groupby(['user_id','user_type']).agg({'hours':'mean'}).reset_index()"
   ]
  },
  {
   "cell_type": "markdown",
   "id": "57db704f",
   "metadata": {},
   "source": [
    "## create df for programmers"
   ]
  },
  {
   "cell_type": "code",
   "execution_count": 53,
   "id": "088f5551",
   "metadata": {},
   "outputs": [],
   "source": [
    "dfprogrammer = dftask51[dftask51['user_type'] == 'programmer']"
   ]
  },
  {
   "cell_type": "markdown",
   "id": "e08cf6f7",
   "metadata": {},
   "source": [
    "## Run t test"
   ]
  },
  {
   "cell_type": "code",
   "execution_count": 54,
   "id": "cc67d10a",
   "metadata": {},
   "outputs": [
    {
     "data": {
      "text/plain": [
       "Ttest_1sampResult(statistic=-1.3467246425885888, pvalue=0.1791899767959702)"
      ]
     },
     "execution_count": 54,
     "metadata": {},
     "output_type": "execute_result"
    }
   ],
   "source": [
    "#Run the T-test for the mean of ONE group of scores. See at: https://docs.scipy.org/doc/scipy/reference/generated/scipy.stats.ttest_1samp.html\n",
    "stats.ttest_1samp(a = dfprogrammer['hours'], popmean = dftask51g['hours'].mean())"
   ]
  },
  {
   "cell_type": "markdown",
   "id": "108f2e5e",
   "metadata": {},
   "source": [
    "# Hypothesys two: People work more hours when the client's currency is GBP."
   ]
  },
  {
   "cell_type": "code",
   "execution_count": 55,
   "id": "04c89a7f",
   "metadata": {},
   "outputs": [],
   "source": [
    "#create new df with important columns \n",
    "dftask52 = df[['user_id', 'client_currency', 'hours']].copy()"
   ]
  },
  {
   "cell_type": "code",
   "execution_count": 56,
   "id": "452f4ba8",
   "metadata": {},
   "outputs": [],
   "source": [
    "dftask52 = dftask52.groupby(['user_id', 'client_currency']).agg({'hours':'sum'}).reset_index()"
   ]
  },
  {
   "cell_type": "markdown",
   "id": "32cd82f1",
   "metadata": {},
   "source": [
    "## Create dataframe for GBP"
   ]
  },
  {
   "cell_type": "code",
   "execution_count": 57,
   "id": "79f3a278",
   "metadata": {},
   "outputs": [],
   "source": [
    "#create dataframe for GBP entered hours\n",
    "dfgbp = dftask52[dftask52['client_currency'] == 'GBP']"
   ]
  },
  {
   "cell_type": "markdown",
   "id": "d6b722c1",
   "metadata": {},
   "source": [
    "## Run t test"
   ]
  },
  {
   "cell_type": "code",
   "execution_count": 58,
   "id": "5103cb6a",
   "metadata": {},
   "outputs": [
    {
     "data": {
      "text/plain": [
       "Ttest_1sampResult(statistic=-2.2951435718436737, pvalue=0.030391437008328866)"
      ]
     },
     "execution_count": 58,
     "metadata": {},
     "output_type": "execute_result"
    }
   ],
   "source": [
    "#Run the T-test for the mean of ONE group of scores. See at: https://docs.scipy.org/doc/scipy/reference/generated/scipy.stats.ttest_1samp.html\n",
    "stats.ttest_1samp(a = dfgbp['hours'], popmean = dftask52['hours'].mean())"
   ]
  },
  {
   "cell_type": "markdown",
   "id": "007fc34a",
   "metadata": {},
   "source": [
    "# Hypothesys three: People work less hours in december."
   ]
  },
  {
   "cell_type": "code",
   "execution_count": 59,
   "id": "9f907496",
   "metadata": {},
   "outputs": [],
   "source": [
    "#create new df with important columns \n",
    "dftask53 = df[['user_id', 'spent_date', 'hours']].copy()"
   ]
  },
  {
   "cell_type": "code",
   "execution_count": 60,
   "id": "fc1460ab",
   "metadata": {},
   "outputs": [],
   "source": [
    "#get month from date_spent\n",
    "dftask53['month'] = pd.to_datetime(df['spent_date']).dt.month\n",
    "dftask53 = dftask53.drop(['spent_date'], axis = 1)"
   ]
  },
  {
   "cell_type": "markdown",
   "id": "e139671a",
   "metadata": {},
   "source": [
    "## Create df for december hours"
   ]
  },
  {
   "cell_type": "code",
   "execution_count": 61,
   "id": "bd591c56",
   "metadata": {},
   "outputs": [],
   "source": [
    "#create df for only for december\n",
    "dfdec = dftask53[dftask53['month'] == 12]"
   ]
  },
  {
   "cell_type": "markdown",
   "id": "ed3eac62",
   "metadata": {},
   "source": [
    "## Run t test"
   ]
  },
  {
   "cell_type": "code",
   "execution_count": 62,
   "id": "8523a987",
   "metadata": {},
   "outputs": [
    {
     "data": {
      "text/plain": [
       "Ttest_1sampResult(statistic=-4.97789577060998, pvalue=7.525432670171487e-07)"
      ]
     },
     "execution_count": 62,
     "metadata": {},
     "output_type": "execute_result"
    }
   ],
   "source": [
    "#Run the T-test for the mean of ONE group of scores. See at: https://docs.scipy.org/doc/scipy/reference/generated/scipy.stats.ttest_1samp.html\n",
    "stats.ttest_1samp(a = dfdec['hours'], popmean = dftask53['hours'].mean())"
   ]
  },
  {
   "cell_type": "markdown",
   "id": "3edf3a80",
   "metadata": {},
   "source": [
    "## Run correlation test"
   ]
  },
  {
   "cell_type": "code",
   "execution_count": 63,
   "id": "dc0f197e",
   "metadata": {},
   "outputs": [
    {
     "data": {
      "text/plain": [
       "0.022521589871756283"
      ]
     },
     "execution_count": 63,
     "metadata": {},
     "output_type": "execute_result"
    }
   ],
   "source": [
    "dftask53['month'].corr(dftask53['hours'])"
   ]
  }
 ],
 "metadata": {
  "kernelspec": {
   "display_name": "Python 3",
   "language": "python",
   "name": "python3"
  },
  "language_info": {
   "codemirror_mode": {
    "name": "ipython",
    "version": 3
   },
   "file_extension": ".py",
   "mimetype": "text/x-python",
   "name": "python",
   "nbconvert_exporter": "python",
   "pygments_lexer": "ipython3",
   "version": "3.8.8"
  }
 },
 "nbformat": 4,
 "nbformat_minor": 5
}
