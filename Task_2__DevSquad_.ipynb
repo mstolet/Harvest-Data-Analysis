{
 "cells": [
  {
   "cell_type": "markdown",
   "id": "386938a6",
   "metadata": {},
   "source": [
    "# Create a list classifying projects considering the amount of work done by task names."
   ]
  },
  {
   "cell_type": "markdown",
   "id": "0be9f35e",
   "metadata": {},
   "source": [
    "## Read database and clean it up"
   ]
  },
  {
   "cell_type": "code",
   "execution_count": 43,
   "id": "9bcffa50",
   "metadata": {},
   "outputs": [],
   "source": [
    "import pandas as pd"
   ]
  },
  {
   "cell_type": "code",
   "execution_count": 44,
   "id": "c73283a6",
   "metadata": {},
   "outputs": [],
   "source": [
    "#read database\n",
    "sheet_id = '1VK2ZQyVCNNjh4D-aQ4xyRjU8DrsLhQ9O02FnZ9S_nSU'\n",
    "df = pd.read_csv(f\"https://docs.google.com/spreadsheets/d/{sheet_id}/export?format=csv\")"
   ]
  },
  {
   "cell_type": "code",
   "execution_count": 45,
   "id": "204ccfd8",
   "metadata": {},
   "outputs": [],
   "source": [
    "#clean database\n",
    "#nan values\n",
    "df = df.dropna(how=\"any\", axis=0) \n",
    "#values equal to 0\n",
    "df = df[(df != 0).all(1)]"
   ]
  },
  {
   "cell_type": "code",
   "execution_count": 46,
   "id": "5ab7073e",
   "metadata": {},
   "outputs": [
    {
     "data": {
      "text/html": [
       "<div>\n",
       "<style scoped>\n",
       "    .dataframe tbody tr th:only-of-type {\n",
       "        vertical-align: middle;\n",
       "    }\n",
       "\n",
       "    .dataframe tbody tr th {\n",
       "        vertical-align: top;\n",
       "    }\n",
       "\n",
       "    .dataframe thead th {\n",
       "        text-align: right;\n",
       "    }\n",
       "</style>\n",
       "<table border=\"1\" class=\"dataframe\">\n",
       "  <thead>\n",
       "    <tr style=\"text-align: right;\">\n",
       "      <th></th>\n",
       "      <th>user_id</th>\n",
       "      <th>task_name</th>\n",
       "      <th>hours</th>\n",
       "    </tr>\n",
       "  </thead>\n",
       "  <tbody>\n",
       "    <tr>\n",
       "      <th>0</th>\n",
       "      <td>3226380.0</td>\n",
       "      <td>Programming</td>\n",
       "      <td>3.22</td>\n",
       "    </tr>\n",
       "    <tr>\n",
       "      <th>1</th>\n",
       "      <td>3226316.0</td>\n",
       "      <td>QA</td>\n",
       "      <td>3.25</td>\n",
       "    </tr>\n",
       "    <tr>\n",
       "      <th>2</th>\n",
       "      <td>1852603.0</td>\n",
       "      <td>UX/UI: Research / Ideation</td>\n",
       "      <td>4.09</td>\n",
       "    </tr>\n",
       "    <tr>\n",
       "      <th>3</th>\n",
       "      <td>1852603.0</td>\n",
       "      <td>UX/UI: High-end Fidelity Design</td>\n",
       "      <td>3.62</td>\n",
       "    </tr>\n",
       "    <tr>\n",
       "      <th>4</th>\n",
       "      <td>1852573.0</td>\n",
       "      <td>DevOps</td>\n",
       "      <td>13.92</td>\n",
       "    </tr>\n",
       "    <tr>\n",
       "      <th>...</th>\n",
       "      <td>...</td>\n",
       "      <td>...</td>\n",
       "      <td>...</td>\n",
       "    </tr>\n",
       "    <tr>\n",
       "      <th>22169</th>\n",
       "      <td>3898458.0</td>\n",
       "      <td>Dev: Pair Programming</td>\n",
       "      <td>2.53</td>\n",
       "    </tr>\n",
       "    <tr>\n",
       "      <th>22172</th>\n",
       "      <td>3997286.0</td>\n",
       "      <td>Dev: Testing</td>\n",
       "      <td>3.32</td>\n",
       "    </tr>\n",
       "    <tr>\n",
       "      <th>22174</th>\n",
       "      <td>2761130.0</td>\n",
       "      <td>UX/UI: High-end Fidelity Design</td>\n",
       "      <td>5.13</td>\n",
       "    </tr>\n",
       "    <tr>\n",
       "      <th>22194</th>\n",
       "      <td>1852602.0</td>\n",
       "      <td>UX/UI: High-end Fidelity Design</td>\n",
       "      <td>3.25</td>\n",
       "    </tr>\n",
       "    <tr>\n",
       "      <th>22201</th>\n",
       "      <td>3097480.0</td>\n",
       "      <td>QA</td>\n",
       "      <td>4.75</td>\n",
       "    </tr>\n",
       "  </tbody>\n",
       "</table>\n",
       "<p>11369 rows × 3 columns</p>\n",
       "</div>"
      ],
      "text/plain": [
       "         user_id                        task_name  hours\n",
       "0      3226380.0                      Programming   3.22\n",
       "1      3226316.0                               QA   3.25\n",
       "2      1852603.0       UX/UI: Research / Ideation   4.09\n",
       "3      1852603.0  UX/UI: High-end Fidelity Design   3.62\n",
       "4      1852573.0                           DevOps  13.92\n",
       "...          ...                              ...    ...\n",
       "22169  3898458.0            Dev: Pair Programming   2.53\n",
       "22172  3997286.0                     Dev: Testing   3.32\n",
       "22174  2761130.0  UX/UI: High-end Fidelity Design   5.13\n",
       "22194  1852602.0  UX/UI: High-end Fidelity Design   3.25\n",
       "22201  3097480.0                               QA   4.75\n",
       "\n",
       "[11369 rows x 3 columns]"
      ]
     },
     "execution_count": 46,
     "metadata": {},
     "output_type": "execute_result"
    }
   ],
   "source": [
    "#create new df with important columns \n",
    "dftask2 = df[['user_id', 'task_name', 'hours']].copy()\n",
    "dftask2"
   ]
  },
  {
   "cell_type": "markdown",
   "id": "8d58cb13",
   "metadata": {},
   "source": [
    "## Classify tasks by groups "
   ]
  },
  {
   "cell_type": "code",
   "execution_count": 47,
   "id": "264aabd2",
   "metadata": {},
   "outputs": [],
   "source": [
    "#Group Recruitment tasks\n",
    "dftask2.loc[((dftask2.task_name == 'Candidate Screening') | (dftask2.task_name == 'Candidates reviews and updates') | (dftask2.task_name == 'Interview') | (dftask2.task_name == 'Onboarding') | (dftask2.task_name == 'RLS: review')), \"task_group\"] = \"Recruitment\"\n",
    "#Group Development tasks\n",
    "dftask2.loc[((dftask2.task_name == 'Backend') | (dftask2.task_name == 'Dev: Development') | (dftask2.task_name == 'Dev: Pair Programming') | (dftask2.task_name == 'Dev: Planning') | (dftask2.task_name == 'Dev: Testing') | (dftask2.task_name == 'Gamification') | (dftask2.task_name == 'Programming')), \"task_group\"] = \"Development\"\n",
    "#Group Self improving tasks\n",
    "dftask2.loc[((dftask2.task_name == 'Learning') | (dftask2.task_name == 'Studying')), \"task_group\"] = \"Self improving\"\n",
    "#Group Management tasks\n",
    "dftask2.loc[((dftask2.task_name == 'Project Management') | (dftask2.task_name == 'BizTech') | (dftask2.task_name == 'Business Development') | (dftask2.task_name == 'Documentation') | (dftask2.task_name == 'Copywriting') | (dftask2.task_name == 'Meeting: 101') | (dftask2.task_name == 'Meeting: Approving') | (dftask2.task_name == 'Meeting: ATDD') | (dftask2.task_name == 'Meeting: Automation') | (dftask2.task_name == 'Meeting: Bug Fix') | (dftask2.task_name == 'Meeting: Client Bug') | (dftask2.task_name == 'Meeting: Client Scope') | (dftask2.task_name == 'Meeting: Client SSO / API') | (dftask2.task_name == 'Meeting: Demo') | (dftask2.task_name == 'Meeting: Feedback') | (dftask2.task_name == 'Meeting: Formulation') | (dftask2.task_name == 'Meeting: Retro') | (dftask2.task_name == 'Meeting: Scope') | (dftask2.task_name == 'Meeting: Sprint Planning') | (dftask2.task_name == 'Meeting: SUP') | (dftask2.task_name == 'Meeting: Tech Talk') | (dftask2.task_name == 'Meeting: Ticket Review') | (dftask2.task_name == 'Meetings')), \"task_group\"] = \"Management\"\n",
    "#Group DevOps tasks\n",
    "dftask2.loc[((dftask2.task_name == 'DevOps')), \"task_group\"] = \"DevOps\"\n",
    "#Group Marketing tasks\n",
    "dftask2.loc[((dftask2.task_name == 'Marketing')), \"task_group\"] = \"Marketing\"\n",
    "#Group UI/UX Design tasks\n",
    "dftask2.loc[((dftask2.task_name == 'UI') | (dftask2.task_name == 'UX') | (dftask2.task_name == 'UX/UI: High-end Fidelity Design') | (dftask2.task_name == 'UX/UI: Prototyping') | (dftask2.task_name == 'UX/UI: Research / Ideation') | (dftask2.task_name == 'Graphic Design')), \"task_group\"] = \"UI/UX Design\"\n",
    "#Group Prod Work tasks\n",
    "dftask2.loc[((dftask2.task_name == 'Prod: Approving') | (dftask2.task_name == 'Prod: Bulk Uploads / Deletes') | (dftask2.task_name == 'Prod: Create / Run Reports') | (dftask2.task_name == 'Prod: Cycle Planning') | (dftask2.task_name == 'Prod: Dashboard Creation / Update') | (dftask2.task_name == 'Prod: Discovery') | (dftask2.task_name == 'Prod: Process Scope / Optimization') | (dftask2.task_name == 'Prod: Research') | (dftask2.task_name == 'Prod: Scope') | (dftask2.task_name == 'Prod: SecurityQuestionnaires') | (dftask2.task_name == 'Prod: SSO Setup') | (dftask2.task_name == 'Prod: Tech Requests') | (dftask2.task_name == 'Prod: Testing') | (dftask2.task_name == 'Prod: Testing / Approving') | (dftask2.task_name == 'Prod: User Stories')), \"task_group\"] = \"Prod Work\"\n",
    "#Group Quality Assurance tasks\n",
    "dftask2.loc[((dftask2.task_name == 'QA') | (dftask2.task_name == 'QA: Code Review') | (dftask2.task_name == 'QA: Exploratory Tests') | (dftask2.task_name == 'QA: Manual Tests') | (dftask2.task_name == 'QA: Test Automation') | (dftask2.task_name == 'QA: Test Devops') | (dftask2.task_name == 'QA: Test Scenarios Conception') | (dftask2.task_name == 'QA: Tests Formulation')), \"task_group\"] = \"Quality Assurance\""
   ]
  },
  {
   "cell_type": "markdown",
   "id": "480b4949",
   "metadata": {},
   "source": [
    "## Show amount of hours worked by task group"
   ]
  },
  {
   "cell_type": "code",
   "execution_count": 48,
   "id": "d5de218c",
   "metadata": {},
   "outputs": [],
   "source": [
    "dftask2 = dftask2.groupby(['task_group']).agg({'hours':'sum'}).sort_values(['hours'], ascending=False)"
   ]
  },
  {
   "cell_type": "code",
   "execution_count": 49,
   "id": "e7b97d59",
   "metadata": {},
   "outputs": [
    {
     "data": {
      "text/html": [
       "<div>\n",
       "<style scoped>\n",
       "    .dataframe tbody tr th:only-of-type {\n",
       "        vertical-align: middle;\n",
       "    }\n",
       "\n",
       "    .dataframe tbody tr th {\n",
       "        vertical-align: top;\n",
       "    }\n",
       "\n",
       "    .dataframe thead th {\n",
       "        text-align: right;\n",
       "    }\n",
       "</style>\n",
       "<table border=\"1\" class=\"dataframe\">\n",
       "  <thead>\n",
       "    <tr style=\"text-align: right;\">\n",
       "      <th></th>\n",
       "      <th>hours</th>\n",
       "    </tr>\n",
       "    <tr>\n",
       "      <th>task_group</th>\n",
       "      <th></th>\n",
       "    </tr>\n",
       "  </thead>\n",
       "  <tbody>\n",
       "    <tr>\n",
       "      <th>Development</th>\n",
       "      <td>24669.37</td>\n",
       "    </tr>\n",
       "    <tr>\n",
       "      <th>Quality Assurance</th>\n",
       "      <td>5926.63</td>\n",
       "    </tr>\n",
       "    <tr>\n",
       "      <th>DevOps</th>\n",
       "      <td>5177.65</td>\n",
       "    </tr>\n",
       "    <tr>\n",
       "      <th>UI/UX Design</th>\n",
       "      <td>4666.67</td>\n",
       "    </tr>\n",
       "    <tr>\n",
       "      <th>Management</th>\n",
       "      <td>3880.77</td>\n",
       "    </tr>\n",
       "    <tr>\n",
       "      <th>Marketing</th>\n",
       "      <td>1834.79</td>\n",
       "    </tr>\n",
       "    <tr>\n",
       "      <th>Prod Work</th>\n",
       "      <td>261.59</td>\n",
       "    </tr>\n",
       "    <tr>\n",
       "      <th>Recruitment</th>\n",
       "      <td>120.49</td>\n",
       "    </tr>\n",
       "    <tr>\n",
       "      <th>Self improving</th>\n",
       "      <td>20.86</td>\n",
       "    </tr>\n",
       "  </tbody>\n",
       "</table>\n",
       "</div>"
      ],
      "text/plain": [
       "                      hours\n",
       "task_group                 \n",
       "Development        24669.37\n",
       "Quality Assurance   5926.63\n",
       "DevOps              5177.65\n",
       "UI/UX Design        4666.67\n",
       "Management          3880.77\n",
       "Marketing           1834.79\n",
       "Prod Work            261.59\n",
       "Recruitment          120.49\n",
       "Self improving        20.86"
      ]
     },
     "execution_count": 49,
     "metadata": {},
     "output_type": "execute_result"
    }
   ],
   "source": [
    "dftask2"
   ]
  },
  {
   "cell_type": "code",
   "execution_count": null,
   "id": "3532560a",
   "metadata": {},
   "outputs": [],
   "source": []
  }
 ],
 "metadata": {
  "kernelspec": {
   "display_name": "Python 3",
   "language": "python",
   "name": "python3"
  },
  "language_info": {
   "codemirror_mode": {
    "name": "ipython",
    "version": 3
   },
   "file_extension": ".py",
   "mimetype": "text/x-python",
   "name": "python",
   "nbconvert_exporter": "python",
   "pygments_lexer": "ipython3",
   "version": "3.8.8"
  }
 },
 "nbformat": 4,
 "nbformat_minor": 5
}
