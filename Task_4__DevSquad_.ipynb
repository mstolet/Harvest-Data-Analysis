{
 "cells": [
  {
   "cell_type": "markdown",
   "id": "152ded59",
   "metadata": {},
   "source": [
    "# Test whether: people who create manual entries have a more even distributed work time during the week, i.e., they work in a regular pace every day, registering the same average amount of hours per day."
   ]
  },
  {
   "cell_type": "markdown",
   "id": "b6880bc2",
   "metadata": {},
   "source": [
    "## Read database and clean it up"
   ]
  },
  {
   "cell_type": "code",
   "execution_count": 35,
   "id": "5c551019",
   "metadata": {},
   "outputs": [],
   "source": [
    "import pandas as pd\n",
    "import numpy as np\n",
    "import scipy.stats as stats\n",
    "import math"
   ]
  },
  {
   "cell_type": "code",
   "execution_count": 36,
   "id": "69e2e489",
   "metadata": {},
   "outputs": [],
   "source": [
    "#read database\n",
    "sheet_id = '1VK2ZQyVCNNjh4D-aQ4xyRjU8DrsLhQ9O02FnZ9S_nSU'\n",
    "df = pd.read_csv(f\"https://docs.google.com/spreadsheets/d/{sheet_id}/export?format=csv\")"
   ]
  },
  {
   "cell_type": "code",
   "execution_count": 37,
   "id": "6778b5c1",
   "metadata": {},
   "outputs": [],
   "source": [
    "#clean database\n",
    "#nan values\n",
    "df = df.dropna(how=\"any\", axis=0) \n",
    "#values equal to 0\n",
    "df = df[(df != 0).all(1)]"
   ]
  },
  {
   "cell_type": "code",
   "execution_count": 38,
   "id": "05ac9c03",
   "metadata": {},
   "outputs": [],
   "source": [
    "#create new df with important columns \n",
    "dftask4 = df[['user_id', 'brokenruledescription', 'hours', 'spent_date']].copy()"
   ]
  },
  {
   "cell_type": "raw",
   "id": "7470b8b7",
   "metadata": {},
   "source": [
    "dftask4['month'] = pd.to_datetime(dftask4['spent_date']).dt.month\n",
    "dftask4 = dftask4.drop(['spent_date'], axis = 1)\n",
    "dftask4"
   ]
  },
  {
   "cell_type": "markdown",
   "id": "4c793258",
   "metadata": {},
   "source": [
    "## Classify users \"The time entry is a manual entry running\""
   ]
  },
  {
   "cell_type": "code",
   "execution_count": 39,
   "id": "73fec6fd",
   "metadata": {},
   "outputs": [],
   "source": [
    "#filter the users with at least one brokenruledescription = The time entry is a manual entry running\n",
    "dftask4 = dftask4.groupby(['spent_date','user_id','brokenruledescription']).agg({'hours':'sum'}).reset_index()"
   ]
  },
  {
   "cell_type": "code",
   "execution_count": 40,
   "id": "046bc8fa",
   "metadata": {},
   "outputs": [
    {
     "data": {
      "text/plain": [
       "array(['Time entry bigger than 3 hours.',\n",
       "       'The time entry is a manual entry stopped',\n",
       "       'Time entry without any notes.'], dtype=object)"
      ]
     },
     "execution_count": 40,
     "metadata": {},
     "output_type": "execute_result"
    }
   ],
   "source": [
    "# Whats the name entry for people who create manual entries\n",
    "dftask4.brokenruledescription.unique()"
   ]
  },
  {
   "cell_type": "code",
   "execution_count": 41,
   "id": "60e0a41b",
   "metadata": {},
   "outputs": [],
   "source": [
    "#classify entry type. Type 1 is for those who entered one or more \"The time entry is a manual entry stopped\", else, type -1.\n",
    "dftask4['user_type'] = [1 if d == 'The time entry is a manual entry stopped' else -1 for d in dftask4['brokenruledescription']] "
   ]
  },
  {
   "cell_type": "code",
   "execution_count": 42,
   "id": "6bb85050",
   "metadata": {},
   "outputs": [
    {
     "name": "stderr",
     "output_type": "stream",
     "text": [
      "<ipython-input-42-6f95ea30f3e1>:7: SettingWithCopyWarning: \n",
      "A value is trying to be set on a copy of a slice from a DataFrame\n",
      "\n",
      "See the caveats in the documentation: https://pandas.pydata.org/pandas-docs/stable/user_guide/indexing.html#returning-a-view-versus-a-copy\n",
      "  dftask4[\"user_type\"][i] = tipoUserTemp\n"
     ]
    }
   ],
   "source": [
    "#classify users by entrys classification\n",
    "user_temp = ''\n",
    "\n",
    "for i in dftask4.index: \n",
    "    if(dftask4[\"user_id\"][i] == user_temp):\n",
    "        tipoUser = dftask4[\"user_type\"][i]\n",
    "        dftask4[\"user_type\"][i] = tipoUserTemp\n",
    "\n",
    "    user_temp = dftask4[\"user_id\"][i]\n",
    "    tipoUserTemp = dftask4[\"user_type\"][i]\n",
    "    "
   ]
  },
  {
   "cell_type": "markdown",
   "id": "b12b546f",
   "metadata": {},
   "source": [
    "## Create DF for users type 1"
   ]
  },
  {
   "cell_type": "code",
   "execution_count": 43,
   "id": "de877f3b",
   "metadata": {},
   "outputs": [],
   "source": [
    "#create users1 df\n",
    "dfusers14 = dftask4[dftask4['user_type'] == 1]"
   ]
  },
  {
   "cell_type": "code",
   "execution_count": 44,
   "id": "b44c4471",
   "metadata": {},
   "outputs": [],
   "source": [
    "#group by day\n",
    "dfusers14 = dfusers14.groupby(['spent_date','user_id']).agg({'hours':'sum'}).reset_index()"
   ]
  },
  {
   "cell_type": "markdown",
   "id": "ea3362a0",
   "metadata": {},
   "source": [
    "## Create DF for all users"
   ]
  },
  {
   "cell_type": "code",
   "execution_count": 45,
   "id": "59901626",
   "metadata": {},
   "outputs": [],
   "source": [
    "dftask4all = dftask4.groupby(['spent_date','user_id']).agg({'hours':'sum'}).reset_index()"
   ]
  },
  {
   "cell_type": "markdown",
   "id": "dfe6a9de",
   "metadata": {},
   "source": [
    "## Run t test"
   ]
  },
  {
   "cell_type": "code",
   "execution_count": 46,
   "id": "b7129914",
   "metadata": {},
   "outputs": [
    {
     "data": {
      "text/plain": [
       "Ttest_1sampResult(statistic=-6.103810640967823, pvalue=3.5107658841576125e-08)"
      ]
     },
     "execution_count": 46,
     "metadata": {},
     "output_type": "execute_result"
    }
   ],
   "source": [
    "#Run the T-test for the mean of ONE group of scores. See at: https://docs.scipy.org/doc/scipy/reference/generated/scipy.stats.ttest_1samp.html\n",
    "stats.ttest_1samp(a = dfusers14['hours'], popmean = dftask4all['hours'].mean())"
   ]
  },
  {
   "cell_type": "markdown",
   "id": "34dfd8aa",
   "metadata": {},
   "source": [
    "## Run correlation test"
   ]
  },
  {
   "cell_type": "code",
   "execution_count": 47,
   "id": "b41901de",
   "metadata": {},
   "outputs": [
    {
     "data": {
      "text/plain": [
       "-0.05853687472846683"
      ]
     },
     "execution_count": 47,
     "metadata": {},
     "output_type": "execute_result"
    }
   ],
   "source": [
    "dftask4['user_type'].corr(dftask4['hours'])"
   ]
  }
 ],
 "metadata": {
  "kernelspec": {
   "display_name": "Python 3",
   "language": "python",
   "name": "python3"
  },
  "language_info": {
   "codemirror_mode": {
    "name": "ipython",
    "version": 3
   },
   "file_extension": ".py",
   "mimetype": "text/x-python",
   "name": "python",
   "nbconvert_exporter": "python",
   "pygments_lexer": "ipython3",
   "version": "3.8.8"
  }
 },
 "nbformat": 4,
 "nbformat_minor": 5
}
