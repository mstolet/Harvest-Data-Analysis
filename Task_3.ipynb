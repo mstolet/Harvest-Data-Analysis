{
 "cells": [
  {
   "cell_type": "markdown",
   "id": "d9cc7eba",
   "metadata": {},
   "source": [
    "# Test whether: programmers who created entries and spent more than 3 hours in the same entry are those who have more entries without notes."
   ]
  },
  {
   "cell_type": "markdown",
   "id": "daa5254f",
   "metadata": {},
   "source": [
    "## Read df with users \"any notes\""
   ]
  },
  {
   "cell_type": "code",
   "execution_count": 174,
   "id": "899b739a",
   "metadata": {},
   "outputs": [],
   "source": [
    "import pandas as pd"
   ]
  },
  {
   "cell_type": "code",
   "execution_count": 175,
   "id": "e7066a37",
   "metadata": {},
   "outputs": [
    {
     "data": {
      "text/html": [
       "<div>\n",
       "<style scoped>\n",
       "    .dataframe tbody tr th:only-of-type {\n",
       "        vertical-align: middle;\n",
       "    }\n",
       "\n",
       "    .dataframe tbody tr th {\n",
       "        vertical-align: top;\n",
       "    }\n",
       "\n",
       "    .dataframe thead th {\n",
       "        text-align: right;\n",
       "    }\n",
       "</style>\n",
       "<table border=\"1\" class=\"dataframe\">\n",
       "  <thead>\n",
       "    <tr style=\"text-align: right;\">\n",
       "      <th></th>\n",
       "      <th>month</th>\n",
       "      <th>user_id</th>\n",
       "      <th>brokenruledescription</th>\n",
       "      <th>hours</th>\n",
       "      <th>user_type</th>\n",
       "    </tr>\n",
       "  </thead>\n",
       "  <tbody>\n",
       "    <tr>\n",
       "      <th>0</th>\n",
       "      <td>1</td>\n",
       "      <td>4001436.0</td>\n",
       "      <td>Time entry without any notes.</td>\n",
       "      <td>1.285000</td>\n",
       "      <td>1</td>\n",
       "    </tr>\n",
       "    <tr>\n",
       "      <th>1</th>\n",
       "      <td>1</td>\n",
       "      <td>4001436.0</td>\n",
       "      <td>The time entry is a manual entry running</td>\n",
       "      <td>0.280000</td>\n",
       "      <td>1</td>\n",
       "    </tr>\n",
       "    <tr>\n",
       "      <th>2</th>\n",
       "      <td>1</td>\n",
       "      <td>3997286.0</td>\n",
       "      <td>Time entry without any notes.</td>\n",
       "      <td>2.146154</td>\n",
       "      <td>1</td>\n",
       "    </tr>\n",
       "    <tr>\n",
       "      <th>3</th>\n",
       "      <td>1</td>\n",
       "      <td>3997286.0</td>\n",
       "      <td>The time entry is a manual entry stopped</td>\n",
       "      <td>0.640000</td>\n",
       "      <td>1</td>\n",
       "    </tr>\n",
       "    <tr>\n",
       "      <th>4</th>\n",
       "      <td>1</td>\n",
       "      <td>3997286.0</td>\n",
       "      <td>Time entry bigger than 3 hours.</td>\n",
       "      <td>4.030000</td>\n",
       "      <td>1</td>\n",
       "    </tr>\n",
       "    <tr>\n",
       "      <th>...</th>\n",
       "      <td>...</td>\n",
       "      <td>...</td>\n",
       "      <td>...</td>\n",
       "      <td>...</td>\n",
       "      <td>...</td>\n",
       "    </tr>\n",
       "    <tr>\n",
       "      <th>1030</th>\n",
       "      <td>12</td>\n",
       "      <td>1852591.0</td>\n",
       "      <td>Time entry without any notes.</td>\n",
       "      <td>8.628000</td>\n",
       "      <td>1</td>\n",
       "    </tr>\n",
       "    <tr>\n",
       "      <th>1031</th>\n",
       "      <td>12</td>\n",
       "      <td>1852591.0</td>\n",
       "      <td>Time entry bigger than 3 hours.</td>\n",
       "      <td>6.757692</td>\n",
       "      <td>1</td>\n",
       "    </tr>\n",
       "    <tr>\n",
       "      <th>1032</th>\n",
       "      <td>12</td>\n",
       "      <td>1852573.0</td>\n",
       "      <td>Time entry without any notes.</td>\n",
       "      <td>5.159091</td>\n",
       "      <td>1</td>\n",
       "    </tr>\n",
       "    <tr>\n",
       "      <th>1033</th>\n",
       "      <td>12</td>\n",
       "      <td>1852573.0</td>\n",
       "      <td>The time entry is a manual entry stopped</td>\n",
       "      <td>0.420000</td>\n",
       "      <td>1</td>\n",
       "    </tr>\n",
       "    <tr>\n",
       "      <th>1034</th>\n",
       "      <td>12</td>\n",
       "      <td>1852573.0</td>\n",
       "      <td>Time entry bigger than 3 hours.</td>\n",
       "      <td>8.170435</td>\n",
       "      <td>1</td>\n",
       "    </tr>\n",
       "  </tbody>\n",
       "</table>\n",
       "<p>1035 rows × 5 columns</p>\n",
       "</div>"
      ],
      "text/plain": [
       "      month    user_id                     brokenruledescription     hours  \\\n",
       "0         1  4001436.0             Time entry without any notes.  1.285000   \n",
       "1         1  4001436.0  The time entry is a manual entry running  0.280000   \n",
       "2         1  3997286.0             Time entry without any notes.  2.146154   \n",
       "3         1  3997286.0  The time entry is a manual entry stopped  0.640000   \n",
       "4         1  3997286.0           Time entry bigger than 3 hours.  4.030000   \n",
       "...     ...        ...                                       ...       ...   \n",
       "1030     12  1852591.0             Time entry without any notes.  8.628000   \n",
       "1031     12  1852591.0           Time entry bigger than 3 hours.  6.757692   \n",
       "1032     12  1852573.0             Time entry without any notes.  5.159091   \n",
       "1033     12  1852573.0  The time entry is a manual entry stopped  0.420000   \n",
       "1034     12  1852573.0           Time entry bigger than 3 hours.  8.170435   \n",
       "\n",
       "      user_type  \n",
       "0             1  \n",
       "1             1  \n",
       "2             1  \n",
       "3             1  \n",
       "4             1  \n",
       "...         ...  \n",
       "1030          1  \n",
       "1031          1  \n",
       "1032          1  \n",
       "1033          1  \n",
       "1034          1  \n",
       "\n",
       "[1035 rows x 5 columns]"
      ]
     },
     "execution_count": 175,
     "metadata": {},
     "output_type": "execute_result"
    }
   ],
   "source": [
    "#read df with only users with one or more entries \"without any notes\"\n",
    "dfusers1 = pd.read_csv(r\"C:\\Users\\marin\\Downloads\\jupyter\\users1_before_groupby\")\n",
    "dfusers1"
   ]
  },
  {
   "cell_type": "code",
   "execution_count": 176,
   "id": "df0a3d31",
   "metadata": {},
   "outputs": [],
   "source": [
    "#groupby user\n",
    "dfusers1 = dfusers1.groupby(['user_id']).agg({'hours':'sum'}).reset_index()"
   ]
  },
  {
   "cell_type": "code",
   "execution_count": 177,
   "id": "98d975d0",
   "metadata": {},
   "outputs": [],
   "source": [
    "#get only users ids\n",
    "dfusers1 = dfusers1[['user_id']].copy()"
   ]
  },
  {
   "cell_type": "markdown",
   "id": "2d4a0477",
   "metadata": {},
   "source": [
    "## Read database and clean it up"
   ]
  },
  {
   "cell_type": "code",
   "execution_count": 178,
   "id": "afb3e602",
   "metadata": {},
   "outputs": [],
   "source": [
    "#read database\n",
    "sheet_id = '1VK2ZQyVCNNjh4D-aQ4xyRjU8DrsLhQ9O02FnZ9S_nSU'\n",
    "df = pd.read_csv(f\"https://docs.google.com/spreadsheets/d/{sheet_id}/export?format=csv\")"
   ]
  },
  {
   "cell_type": "code",
   "execution_count": 179,
   "id": "45fd6847",
   "metadata": {},
   "outputs": [],
   "source": [
    "#clean database\n",
    "#nan values\n",
    "df = df.dropna(how=\"any\", axis=0) \n",
    "#values equal to 0\n",
    "df = df[(df != 0).all(1)]"
   ]
  },
  {
   "cell_type": "code",
   "execution_count": 180,
   "id": "71eeab57",
   "metadata": {},
   "outputs": [],
   "source": [
    "#create new df with important columns \n",
    "dftask3 = df[['user_id', 'brokenruledescription', 'hours', 'spent_date']].copy()"
   ]
  },
  {
   "cell_type": "code",
   "execution_count": 181,
   "id": "4a35e750",
   "metadata": {},
   "outputs": [],
   "source": [
    "dftask3['month'] = pd.to_datetime(df['spent_date']).dt.month\n",
    "dftask3 = dftask3.drop(['spent_date'], axis = 1)"
   ]
  },
  {
   "cell_type": "markdown",
   "id": "c9be1724",
   "metadata": {},
   "source": [
    "## Classify users with one or more entries \"Time entry bigger than 3 hours\""
   ]
  },
  {
   "cell_type": "code",
   "execution_count": 182,
   "id": "ee11304f",
   "metadata": {},
   "outputs": [],
   "source": [
    "#filter the users with at least one \"Time entry bigger than 3 hours.\"\n",
    "dftask3 = dftask3.groupby(['month','user_id','brokenruledescription']).agg({'hours':'mean'}).reset_index()"
   ]
  },
  {
   "cell_type": "code",
   "execution_count": 183,
   "id": "ba7f65ef",
   "metadata": {},
   "outputs": [],
   "source": [
    "#classify entry type. Type 1 is for those who entered one or more \"Time entry bigger than 3 hours.\", else, type -1.\n",
    "dftask3['bigger'] = [1 if d == 'Time entry bigger than 3 hours.' else -1 for d in dftask3['brokenruledescription']] "
   ]
  },
  {
   "cell_type": "code",
   "execution_count": 184,
   "id": "344adc9c",
   "metadata": {},
   "outputs": [
    {
     "name": "stderr",
     "output_type": "stream",
     "text": [
      "<ipython-input-184-ab056596f4cf>:9: SettingWithCopyWarning: \n",
      "A value is trying to be set on a copy of a slice from a DataFrame\n",
      "\n",
      "See the caveats in the documentation: https://pandas.pydata.org/pandas-docs/stable/user_guide/indexing.html#returning-a-view-versus-a-copy\n",
      "  dftask3[\"bigger\"][i] = tipoUserTemp\n"
     ]
    }
   ],
   "source": [
    "#classify users by entrys classification\n",
    "dftask3 = dftask3.sort_values([\"month\", \"user_id\",\"bigger\"], ascending=[True, False,False])\n",
    "\n",
    "user_temp = ''\n",
    "\n",
    "for i in dftask3.index: \n",
    "    if(dftask3[\"user_id\"][i] == user_temp):\n",
    "        tipoUser = dftask3[\"bigger\"][i]\n",
    "        dftask3[\"bigger\"][i] = tipoUserTemp\n",
    "\n",
    "    user_temp = dftask3[\"user_id\"][i]\n",
    "    tipoUserTemp = dftask3[\"bigger\"][i]\n",
    "    "
   ]
  },
  {
   "cell_type": "code",
   "execution_count": 185,
   "id": "e164f09b",
   "metadata": {},
   "outputs": [],
   "source": [
    "dfbigger = dftask3.groupby(['user_id']).agg({'hours':'sum'}).reset_index().drop(['hours'], axis = 1)"
   ]
  },
  {
   "cell_type": "markdown",
   "id": "f1a8a438",
   "metadata": {},
   "source": [
    "## Compare dfusers1 to dfbigger "
   ]
  },
  {
   "cell_type": "code",
   "execution_count": 186,
   "id": "9caf9bf2",
   "metadata": {},
   "outputs": [],
   "source": [
    "#if user id in dfusers1 is also in dfbigger then column \"exist\" is filled with True, else, \"False\" \n",
    "dfusers1['exist'] = dfusers1['user_id'].isin(dfbigger['user_id'])"
   ]
  },
  {
   "cell_type": "code",
   "execution_count": 187,
   "id": "0d4453f6",
   "metadata": {},
   "outputs": [
    {
     "data": {
      "text/plain": [
       "True     90.384615\n",
       "False     9.615385\n",
       "Name: exist, dtype: float64"
      ]
     },
     "execution_count": 187,
     "metadata": {},
     "output_type": "execute_result"
    }
   ],
   "source": [
    "#True and False percentages  in dataframe\n",
    "dfusers1['exist'].value_counts(normalize=True) * 100"
   ]
  },
  {
   "cell_type": "code",
   "execution_count": null,
   "id": "dcae6094",
   "metadata": {},
   "outputs": [],
   "source": []
  }
 ],
 "metadata": {
  "kernelspec": {
   "display_name": "Python 3",
   "language": "python",
   "name": "python3"
  },
  "language_info": {
   "codemirror_mode": {
    "name": "ipython",
    "version": 3
   },
   "file_extension": ".py",
   "mimetype": "text/x-python",
   "name": "python",
   "nbconvert_exporter": "python",
   "pygments_lexer": "ipython3",
   "version": "3.8.8"
  }
 },
 "nbformat": 4,
 "nbformat_minor": 5
}
